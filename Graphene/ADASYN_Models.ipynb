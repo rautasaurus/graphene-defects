{
 "cells": [
  {
   "attachments": {},
   "cell_type": "markdown",
   "id": "ce57caf7",
   "metadata": {},
   "source": [
    "### Import Dataset"
   ]
  },
  {
   "cell_type": "code",
   "execution_count": 69,
   "id": "fd027c5f",
   "metadata": {},
   "outputs": [],
   "source": [
    "import pandas as pd\n",
    "main_dataset = pd.read_csv('./MasterDataset.csv')"
   ]
  },
  {
   "attachments": {},
   "cell_type": "markdown",
   "id": "84fa0340",
   "metadata": {},
   "source": [
    "### Insert Theta"
   ]
  },
  {
   "cell_type": "code",
   "execution_count": 70,
   "id": "b32ed83b",
   "metadata": {},
   "outputs": [],
   "source": [
    "main_dataset['theta'] = 13.9\n",
    "main_dataset.loc[main_dataset['n'] == main_dataset['m'] , 'theta'] = 30\n",
    "main_dataset.loc[main_dataset['m'] ==0  , 'theta'] = 0\n",
    "\n",
    "# main_dataset"
   ]
  },
  {
   "attachments": {},
   "cell_type": "markdown",
   "id": "3da735ed",
   "metadata": {},
   "source": [
    "### Insert identifier for Pristine model"
   ]
  },
  {
   "cell_type": "code",
   "execution_count": 71,
   "id": "591224bc",
   "metadata": {},
   "outputs": [
    {
     "name": "stderr",
     "output_type": "stream",
     "text": [
      "C:\\Users\\shubh\\AppData\\Local\\Temp\\ipykernel_332\\3067301796.py:2: SettingWithCopyWarning: \n",
      "A value is trying to be set on a copy of a slice from a DataFrame.\n",
      "Try using .loc[row_indexer,col_indexer] = value instead\n",
      "\n",
      "See the caveats in the documentation: https://pandas.pydata.org/pandas-docs/stable/user_guide/indexing.html#returning-a-view-versus-a-copy\n",
      "  df_0['pristine'] = 1\n",
      "C:\\Users\\shubh\\AppData\\Local\\Temp\\ipykernel_332\\3067301796.py:6: SettingWithCopyWarning: \n",
      "A value is trying to be set on a copy of a slice from a DataFrame.\n",
      "Try using .loc[row_indexer,col_indexer] = value instead\n",
      "\n",
      "See the caveats in the documentation: https://pandas.pydata.org/pandas-docs/stable/user_guide/indexing.html#returning-a-view-versus-a-copy\n",
      "  df_1['pristine'] = 0\n",
      "C:\\Users\\shubh\\AppData\\Local\\Temp\\ipykernel_332\\3067301796.py:10: SettingWithCopyWarning: \n",
      "A value is trying to be set on a copy of a slice from a DataFrame.\n",
      "Try using .loc[row_indexer,col_indexer] = value instead\n",
      "\n",
      "See the caveats in the documentation: https://pandas.pydata.org/pandas-docs/stable/user_guide/indexing.html#returning-a-view-versus-a-copy\n",
      "  df_2['pristine'] = 0\n",
      "C:\\Users\\shubh\\AppData\\Local\\Temp\\ipykernel_332\\3067301796.py:14: SettingWithCopyWarning: \n",
      "A value is trying to be set on a copy of a slice from a DataFrame.\n",
      "Try using .loc[row_indexer,col_indexer] = value instead\n",
      "\n",
      "See the caveats in the documentation: https://pandas.pydata.org/pandas-docs/stable/user_guide/indexing.html#returning-a-view-versus-a-copy\n",
      "  df_3['pristine'] = 0\n"
     ]
    }
   ],
   "source": [
    "df_0 = main_dataset[['Model ID', 'width', 'Length (A)', '1st Natural Freq (GHz)' ,'theta']]\n",
    "df_0['pristine'] = 1\n",
    "# df_0\n",
    "\n",
    "df_1 = main_dataset[['Model ID', 'width', 'Length (A)', 'Defect 1 %' , 'theta']]\n",
    "df_1['pristine'] = 0\n",
    "# df_1\n",
    "\n",
    "df_2 = main_dataset[['Model ID', 'width', 'Length (A)', 'Defect 2 %' , 'theta']]\n",
    "df_2['pristine'] = 0\n",
    "# df_2\n",
    "\n",
    "df_3 = main_dataset[['Model ID', 'width', 'Length (A)', 'Defect 3 %' , 'theta']]\n",
    "df_3['pristine'] = 0\n",
    "# df_3"
   ]
  },
  {
   "attachments": {},
   "cell_type": "markdown",
   "id": "87e771bb",
   "metadata": {},
   "source": [
    "#### Renaming Frequency Columns Header"
   ]
  },
  {
   "cell_type": "code",
   "execution_count": 72,
   "id": "9d7d50b1",
   "metadata": {},
   "outputs": [],
   "source": [
    "df_0 = df_0.rename(columns={'1st Natural Freq (GHz)' : 'freq'})\n",
    "df_1 = df_1.rename(columns={'Defect 1 %': 'freq'})\n",
    "df_2 = df_2.rename(columns={'Defect 2 %': 'freq'})\n",
    "df_3 = df_3.rename(columns={'Defect 3 %': 'freq'})"
   ]
  },
  {
   "attachments": {},
   "cell_type": "markdown",
   "id": "9f026460",
   "metadata": {},
   "source": [
    "#### Merge dataframes of dataset"
   ]
  },
  {
   "cell_type": "code",
   "execution_count": 73,
   "id": "540eab45",
   "metadata": {},
   "outputs": [],
   "source": [
    "df_merged = pd.concat([df_0,df_1,df_2,df_3])\n",
    "df_merged = df_merged.rename(columns = {'Length (A)' : 'length'})\n",
    "# df_merged.shape\n",
    "# df_merged\n",
    "# df_merged.columns\n",
    "\n",
    "df_merged.to_csv('./MasterDataset_Mod.csv')"
   ]
  },
  {
   "attachments": {},
   "cell_type": "markdown",
   "id": "5e2529a3",
   "metadata": {},
   "source": [
    "#### ADASYN"
   ]
  },
  {
   "cell_type": "code",
   "execution_count": 74,
   "id": "506aa75e",
   "metadata": {},
   "outputs": [],
   "source": [
    "from collections import Counter\n",
    "from sklearn.metrics import classification_report, accuracy_score, confusion_matrix\n",
    "from imblearn.over_sampling import ADASYN\n",
    "\n",
    "x=df_merged[['width','theta','freq','length']]\n",
    "y=df_merged['pristine']\n",
    "\n",
    "oversample = ADASYN()\n",
    "x_adasyn,y_adasyn=oversample.fit_resample(x,y)\n"
   ]
  },
  {
   "attachments": {},
   "cell_type": "markdown",
   "id": "1c2a4cf4",
   "metadata": {},
   "source": [
    "#### Train Test Split"
   ]
  },
  {
   "cell_type": "code",
   "execution_count": 75,
   "id": "5fbb43ec",
   "metadata": {},
   "outputs": [
    {
     "name": "stdout",
     "output_type": "stream",
     "text": [
      "Before Counter({0: 144, 1: 48})\n",
      "After Counter({1: 152, 0: 144})\n"
     ]
    }
   ],
   "source": [
    "from sklearn.model_selection import train_test_split\n",
    "\n",
    "x_train_adasyn, x_test, y_train_adasyn, y_test = train_test_split(x_adasyn, y_adasyn, test_size=0.2, random_state=42)\n",
    "\n",
    "counter=Counter(y)\n",
    "print('Before',counter)\n",
    "counter=Counter(y_adasyn)\n",
    "print('After',counter)"
   ]
  },
  {
   "attachments": {},
   "cell_type": "markdown",
   "id": "a3b96529",
   "metadata": {},
   "source": [
    "#### Naive Bayes Classifier"
   ]
  },
  {
   "cell_type": "code",
   "execution_count": 76,
   "id": "6f33a7ba",
   "metadata": {},
   "outputs": [
    {
     "name": "stdout",
     "output_type": "stream",
     "text": [
      "              precision    recall  f1-score   support\n",
      "\n",
      "           0       0.28      0.36      0.31        22\n",
      "           1       0.55      0.45      0.49        38\n",
      "\n",
      "    accuracy                           0.42        60\n",
      "   macro avg       0.41      0.41      0.40        60\n",
      "weighted avg       0.45      0.42      0.43        60\n",
      "\n",
      "Accuracy:  41.67 %\n"
     ]
    },
    {
     "data": {
      "text/plain": [
       "<AxesSubplot:>"
      ]
     },
     "execution_count": 76,
     "metadata": {},
     "output_type": "execute_result"
    },
    {
     "data": {
      "image/png": "[encoded data removed]",
      "text/plain": [
       "<Figure size 432x288 with 2 Axes>"
      ]
     },
     "metadata": {
      "needs_background": "light"
     },
     "output_type": "display_data"
    }
   ],
   "source": [
    "from sklearn.naive_bayes import MultinomialNB\n",
    "\n",
    "mnb = MultinomialNB()\n",
    "mnb.fit(x_train_adasyn, y_train_adasyn)\n",
    "y_pred_mnb = mnb.predict(x_test)\n",
    "print(classification_report(y_pred_mnb, y_test))\n",
    "\n",
    "print(\"Accuracy: \", round((100*(accuracy_score(y_test, y_pred_mnb))), 2), \"%\")\n",
    "\n",
    "import seaborn as sns\n",
    "sns.heatmap(confusion_matrix(y_test, y_pred_mnb), annot=True, fmt='d', cmap='Blues')"
   ]
  },
  {
   "attachments": {},
   "cell_type": "markdown",
   "id": "4dd2b8e5",
   "metadata": {},
   "source": [
    "#### Logistic Regression Classifier"
   ]
  },
  {
   "cell_type": "code",
   "execution_count": 77,
   "id": "ddf3e181",
   "metadata": {},
   "outputs": [
    {
     "name": "stdout",
     "output_type": "stream",
     "text": [
      "              precision    recall  f1-score   support\n",
      "\n",
      "           0       0.17      0.38      0.24        13\n",
      "           1       0.74      0.49      0.59        47\n",
      "\n",
      "    accuracy                           0.47        60\n",
      "   macro avg       0.46      0.44      0.41        60\n",
      "weighted avg       0.62      0.47      0.51        60\n",
      "\n",
      "Accuracy:  46.67 %\n"
     ]
    },
    {
     "data": {
      "text/plain": [
       "<AxesSubplot:>"
      ]
     },
     "execution_count": 77,
     "metadata": {},
     "output_type": "execute_result"
    },
    {
     "data": {
      "image/png": "[encoded data removed]",
      "text/plain": [
       "<Figure size 432x288 with 2 Axes>"
      ]
     },
     "metadata": {
      "needs_background": "light"
     },
     "output_type": "display_data"
    }
   ],
   "source": [
    "from sklearn.linear_model import LogisticRegression\n",
    "\n",
    "logreg = LogisticRegression()\n",
    "logreg.fit(x_train_adasyn, y_train_adasyn)\n",
    "y_pred_logreg = logreg.predict(x_test)\n",
    "print(classification_report(y_pred_logreg, y_test))\n",
    "\n",
    "print(\"Accuracy: \", round((100*(accuracy_score(y_test, y_pred_logreg))), 2), \"%\")\n",
    "\n",
    "import seaborn as sns\n",
    "sns.heatmap(confusion_matrix(y_test, y_pred_logreg), annot=True, fmt='d', cmap='Blues')"
   ]
  },
  {
   "attachments": {},
   "cell_type": "markdown",
   "id": "70d381f9",
   "metadata": {},
   "source": [
    "#### K-Nearest Neighbors Classifier"
   ]
  },
  {
   "cell_type": "code",
   "execution_count": 78,
   "id": "21c8469d",
   "metadata": {},
   "outputs": [
    {
     "name": "stdout",
     "output_type": "stream",
     "text": [
      "              precision    recall  f1-score   support\n",
      "\n",
      "           0       0.21      0.23      0.22        26\n",
      "           1       0.35      0.32      0.34        34\n",
      "\n",
      "    accuracy                           0.28        60\n",
      "   macro avg       0.28      0.28      0.28        60\n",
      "weighted avg       0.29      0.28      0.29        60\n",
      "\n",
      "Accuracy:  28.33 %\n"
     ]
    },
    {
     "data": {
      "text/plain": [
       "<AxesSubplot:>"
      ]
     },
     "execution_count": 78,
     "metadata": {},
     "output_type": "execute_result"
    },
    {
     "data": {
      "image/png": "[encoded data removed]",
      "text/plain": [
       "<Figure size 432x288 with 2 Axes>"
      ]
     },
     "metadata": {
      "needs_background": "light"
     },
     "output_type": "display_data"
    }
   ],
   "source": [
    "from sklearn.neighbors import KNeighborsClassifier\n",
    "\n",
    "knn = KNeighborsClassifier()\n",
    "knn.fit(x_train_adasyn, y_train_adasyn)\n",
    "y_pred_knn = knn.predict(x_test)\n",
    "print(classification_report(y_pred_knn, y_test))\n",
    "\n",
    "print(\"Accuracy: \", round((100*(accuracy_score(y_test, y_pred_knn))), 2), \"%\")\n",
    "\n",
    "import seaborn as sns\n",
    "sns.heatmap(confusion_matrix(y_test, y_pred_knn), annot=True, fmt='d', cmap='Blues')"
   ]
  },
  {
   "attachments": {},
   "cell_type": "markdown",
   "id": "ae9b5bf0",
   "metadata": {},
   "source": [
    "#### Linear Support Vector Machine Classifier"
   ]
  },
  {
   "cell_type": "code",
   "execution_count": 79,
   "id": "4416d3dd",
   "metadata": {},
   "outputs": [
    {
     "name": "stdout",
     "output_type": "stream",
     "text": [
      "              precision    recall  f1-score   support\n",
      "\n",
      "           0       1.00      0.48      0.65        60\n",
      "           1       0.00      0.00      0.00         0\n",
      "\n",
      "    accuracy                           0.48        60\n",
      "   macro avg       0.50      0.24      0.33        60\n",
      "weighted avg       1.00      0.48      0.65        60\n",
      "\n",
      "Accuracy:  48.33 %\n"
     ]
    },
    {
     "name": "stderr",
     "output_type": "stream",
     "text": [
      "d:\\Softwares\\Python\\lib\\site-packages\\sklearn\\svm\\_base.py:1225: ConvergenceWarning: Liblinear failed to converge, increase the number of iterations.\n",
      "  warnings.warn(\n",
      "d:\\Softwares\\Python\\lib\\site-packages\\sklearn\\metrics\\_classification.py:1327: UndefinedMetricWarning: Recall and F-score are ill-defined and being set to 0.0 in labels with no true samples. Use `zero_division` parameter to control this behavior.\n",
      "  _warn_prf(average, modifier, msg_start, len(result))\n",
      "d:\\Softwares\\Python\\lib\\site-packages\\sklearn\\metrics\\_classification.py:1327: UndefinedMetricWarning: Recall and F-score are ill-defined and being set to 0.0 in labels with no true samples. Use `zero_division` parameter to control this behavior.\n",
      "  _warn_prf(average, modifier, msg_start, len(result))\n",
      "d:\\Softwares\\Python\\lib\\site-packages\\sklearn\\metrics\\_classification.py:1327: UndefinedMetricWarning: Recall and F-score are ill-defined and being set to 0.0 in labels with no true samples. Use `zero_division` parameter to control this behavior.\n",
      "  _warn_prf(average, modifier, msg_start, len(result))\n"
     ]
    },
    {
     "data": {
      "text/plain": [
       "<AxesSubplot:>"
      ]
     },
     "execution_count": 79,
     "metadata": {},
     "output_type": "execute_result"
    },
    {
     "data": {
      "image/png": "[encoded data removed]",
      "text/plain": [
       "<Figure size 432x288 with 2 Axes>"
      ]
     },
     "metadata": {
      "needs_background": "light"
     },
     "output_type": "display_data"
    }
   ],
   "source": [
    "from sklearn.svm import LinearSVC\n",
    "\n",
    "lsvc = LinearSVC()\n",
    "lsvc.fit(x_train_adasyn, y_train_adasyn)\n",
    "y_pred_lsvc = lsvc.predict(x_test)\n",
    "print(classification_report(y_pred_lsvc, y_test))\n",
    "\n",
    "print(\"Accuracy: \", round((100*(accuracy_score(y_test, y_pred_lsvc))), 2), \"%\")\n",
    "\n",
    "import seaborn as sns\n",
    "sns.heatmap(confusion_matrix(y_test, y_pred_lsvc), annot=True, fmt='d', cmap='Blues')"
   ]
  },
  {
   "attachments": {},
   "cell_type": "markdown",
   "id": "3b45ef4e",
   "metadata": {},
   "source": [
    "#### Support Vector Machine Classifier"
   ]
  },
  {
   "cell_type": "code",
   "execution_count": 80,
   "id": "70f93441",
   "metadata": {},
   "outputs": [
    {
     "name": "stdout",
     "output_type": "stream",
     "text": [
      "              precision    recall  f1-score   support\n",
      "\n",
      "           0       0.17      0.33      0.23        15\n",
      "           1       0.68      0.47      0.55        45\n",
      "\n",
      "    accuracy                           0.43        60\n",
      "   macro avg       0.42      0.40      0.39        60\n",
      "weighted avg       0.55      0.43      0.47        60\n",
      "\n",
      "Accuracy:  43.33 %\n"
     ]
    },
    {
     "data": {
      "text/plain": [
       "<AxesSubplot:>"
      ]
     },
     "execution_count": 80,
     "metadata": {},
     "output_type": "execute_result"
    },
    {
     "data": {
      "image/png": "[encoded data removed]",
      "text/plain": [
       "<Figure size 432x288 with 2 Axes>"
      ]
     },
     "metadata": {
      "needs_background": "light"
     },
     "output_type": "display_data"
    }
   ],
   "source": [
    "from sklearn.svm import SVC\n",
    "\n",
    "svc = SVC()\n",
    "svc.fit(x_train_adasyn, y_train_adasyn)\n",
    "y_pred_svc = svc.predict(x_test)\n",
    "print(classification_report(y_pred_svc, y_test))\n",
    "\n",
    "print(\"Accuracy: \", round((100*(accuracy_score(y_test, y_pred_svc))), 2), \"%\")\n",
    "\n",
    "import seaborn as sns\n",
    "sns.heatmap(confusion_matrix(y_test, y_pred_svc), annot=True, fmt='d', cmap='Blues')"
   ]
  },
  {
   "attachments": {},
   "cell_type": "markdown",
   "id": "000de609",
   "metadata": {},
   "source": [
    "#### Decision Tree Classifier"
   ]
  },
  {
   "cell_type": "code",
   "execution_count": 81,
   "id": "1c8bd25b",
   "metadata": {},
   "outputs": [
    {
     "name": "stdout",
     "output_type": "stream",
     "text": [
      "              precision    recall  f1-score   support\n",
      "\n",
      "           0       0.79      0.74      0.77        31\n",
      "           1       0.74      0.79      0.77        29\n",
      "\n",
      "    accuracy                           0.77        60\n",
      "   macro avg       0.77      0.77      0.77        60\n",
      "weighted avg       0.77      0.77      0.77        60\n",
      "\n",
      "Accuracy:  76.67 %\n"
     ]
    },
    {
     "data": {
      "text/plain": [
       "<AxesSubplot:>"
      ]
     },
     "execution_count": 81,
     "metadata": {},
     "output_type": "execute_result"
    },
    {
     "data": {
      "image/png": "[encoded data removed]",
      "text/plain": [
       "<Figure size 432x288 with 2 Axes>"
      ]
     },
     "metadata": {
      "needs_background": "light"
     },
     "output_type": "display_data"
    }
   ],
   "source": [
    "from sklearn.tree import DecisionTreeClassifier\n",
    "clf = DecisionTreeClassifier()\n",
    "clf.fit(x_train_adasyn, y_train_adasyn)\n",
    "y_pred_clf = clf.predict(x_test)\n",
    "print(classification_report(y_pred_clf, y_test))\n",
    "\n",
    "print(\"Accuracy: \", round((100*(accuracy_score(y_test, y_pred_clf))), 2), \"%\")\n",
    "\n",
    "import seaborn as sns\n",
    "sns.heatmap(confusion_matrix(y_test, y_pred_clf), annot=True, fmt='d', cmap='Blues')"
   ]
  },
  {
   "attachments": {},
   "cell_type": "markdown",
   "id": "81ca16ab",
   "metadata": {},
   "source": [
    "#### Bagging Decision Tree Classifier"
   ]
  },
  {
   "cell_type": "code",
   "execution_count": 82,
   "id": "3d7819cb",
   "metadata": {},
   "outputs": [
    {
     "name": "stdout",
     "output_type": "stream",
     "text": [
      "              precision    recall  f1-score   support\n",
      "\n",
      "           0       0.79      0.77      0.78        30\n",
      "           1       0.77      0.80      0.79        30\n",
      "\n",
      "    accuracy                           0.78        60\n",
      "   macro avg       0.78      0.78      0.78        60\n",
      "weighted avg       0.78      0.78      0.78        60\n",
      "\n",
      "Accuracy:  78.33 %\n"
     ]
    },
    {
     "data": {
      "text/plain": [
       "<AxesSubplot:>"
      ]
     },
     "execution_count": 82,
     "metadata": {},
     "output_type": "execute_result"
    },
    {
     "data": {
      "image/png": "[encoded data removed]",
      "text/plain": [
       "<Figure size 432x288 with 2 Axes>"
      ]
     },
     "metadata": {
      "needs_background": "light"
     },
     "output_type": "display_data"
    }
   ],
   "source": [
    "from sklearn.ensemble import BaggingClassifier\n",
    "from sklearn.tree import DecisionTreeClassifier\n",
    "# max_samples: maximum size 0.5=50% of each sample taken from the full dataset\n",
    "# max_features: maximum of features 1=100% taken here all 10K \n",
    "# n_estimators: number of decision trees \n",
    "\n",
    "bg=BaggingClassifier(DecisionTreeClassifier(),max_samples=0.5,max_features=1.0,n_estimators=100)\n",
    "bg.fit(x_train_adasyn, y_train_adasyn)\n",
    "y_pred_bg = bg.predict(x_test)\n",
    "print(classification_report(y_pred_bg, y_test))\n",
    "\n",
    "print(\"Accuracy: \", round((100*(accuracy_score(y_test, y_pred_bg))), 2), \"%\")\n",
    "\n",
    "import seaborn as sns\n",
    "sns.heatmap(confusion_matrix(y_test, y_pred_bg), annot=True, fmt='d', cmap='Blues')\n"
   ]
  },
  {
   "attachments": {},
   "cell_type": "markdown",
   "id": "d57eefba",
   "metadata": {},
   "source": [
    "#### Bosoting Decision Tree Classifier"
   ]
  },
  {
   "cell_type": "code",
   "execution_count": 83,
   "id": "37b54df8",
   "metadata": {},
   "outputs": [
    {
     "name": "stdout",
     "output_type": "stream",
     "text": [
      "              precision    recall  f1-score   support\n",
      "\n",
      "           0       0.86      0.78      0.82        32\n",
      "           1       0.77      0.86      0.81        28\n",
      "\n",
      "    accuracy                           0.82        60\n",
      "   macro avg       0.82      0.82      0.82        60\n",
      "weighted avg       0.82      0.82      0.82        60\n",
      "\n",
      "Accuracy:  81.67 %\n"
     ]
    },
    {
     "data": {
      "text/plain": [
       "<AxesSubplot:>"
      ]
     },
     "execution_count": 83,
     "metadata": {},
     "output_type": "execute_result"
    },
    {
     "data": {
      "image/png": "[encoded data removed]",
      "text/plain": [
       "<Figure size 432x288 with 2 Axes>"
      ]
     },
     "metadata": {
      "needs_background": "light"
     },
     "output_type": "display_data"
    }
   ],
   "source": [
    "from sklearn.ensemble import AdaBoostClassifier\n",
    "from sklearn.tree import DecisionTreeClassifier\n",
    "adb = AdaBoostClassifier(DecisionTreeClassifier(min_samples_split=10,max_depth=4),n_estimators=10,learning_rate=0.6)\n",
    "adb.fit(x_train_adasyn, y_train_adasyn)\n",
    "\n",
    "y_pred_adb = adb.predict(x_test)\n",
    "print(classification_report(y_pred_adb, y_test))\n",
    "\n",
    "print(\"Accuracy: \", round((100*(accuracy_score(y_test, y_pred_adb))), 2), \"%\")\n",
    "\n",
    "import seaborn as sns\n",
    "sns.heatmap(confusion_matrix(y_test, y_pred_adb), annot=True, fmt='d', cmap='Blues')\n"
   ]
  },
  {
   "attachments": {},
   "cell_type": "markdown",
   "id": "e6b69852",
   "metadata": {},
   "source": [
    "#### Random Forest Classifier"
   ]
  },
  {
   "cell_type": "code",
   "execution_count": 84,
   "id": "daadf45c",
   "metadata": {},
   "outputs": [
    {
     "name": "stdout",
     "output_type": "stream",
     "text": [
      "              precision    recall  f1-score   support\n",
      "\n",
      "           0       0.83      0.77      0.80        31\n",
      "           1       0.77      0.83      0.80        29\n",
      "\n",
      "    accuracy                           0.80        60\n",
      "   macro avg       0.80      0.80      0.80        60\n",
      "weighted avg       0.80      0.80      0.80        60\n",
      "\n",
      "Accuracy:  80.0 %\n"
     ]
    },
    {
     "data": {
      "text/plain": [
       "<AxesSubplot:>"
      ]
     },
     "execution_count": 84,
     "metadata": {},
     "output_type": "execute_result"
    },
    {
     "data": {
      "image/png": "[encoded data removed]",
      "text/plain": [
       "<Figure size 432x288 with 2 Axes>"
      ]
     },
     "metadata": {
      "needs_background": "light"
     },
     "output_type": "display_data"
    }
   ],
   "source": [
    "from sklearn.ensemble import RandomForestClassifier\n",
    "rf = RandomForestClassifier(n_estimators=100, max_depth=9)\n",
    "rf.fit(x_train_adasyn, y_train_adasyn)\n",
    "y_pred_rf = rf.predict(x_test)\n",
    "print(classification_report(y_pred_rf, y_test))\n",
    "\n",
    "print(\"Accuracy: \", round((100*(accuracy_score(y_test, y_pred_rf))), 2), \"%\")\n",
    "\n",
    "import seaborn as sns\n",
    "sns.heatmap(confusion_matrix(y_test, y_pred_rf), annot=True, fmt='d', cmap='Blues')\n"
   ]
  }
 ],
 "metadata": {
  "kernelspec": {
   "display_name": "Python 3 (ipykernel)",
   "language": "python",
   "name": "python3"
  },
  "language_info": {
   "codemirror_mode": {
    "name": "ipython",
    "version": 3
   },
   "file_extension": ".py",
   "mimetype": "text/x-python",
   "name": "python",
   "nbconvert_exporter": "python",
   "pygments_lexer": "ipython3",
   "version": "3.10.5"
  }
 },
 "nbformat": 4,
 "nbformat_minor": 5
}
