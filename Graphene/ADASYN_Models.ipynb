{
 "cells": [
  {
   "attachments": {},
   "cell_type": "markdown",
   "id": "ce57caf7",
   "metadata": {},
   "source": [
    "### Import Dataset"
   ]
  },
  {
   "cell_type": "code",
   "execution_count": 1,
   "id": "fd027c5f",
   "metadata": {},
   "outputs": [],
   "source": [
    "import pandas as pd\n",
    "main_dataset = pd.read_csv('./MasterDataset.csv')"
   ]
  },
  {
   "attachments": {},
   "cell_type": "markdown",
   "id": "84fa0340",
   "metadata": {},
   "source": [
    "### Insert Theta"
   ]
  },
  {
   "cell_type": "code",
   "execution_count": 2,
   "id": "b32ed83b",
   "metadata": {},
   "outputs": [],
   "source": [
    "main_dataset['theta'] = 13.9\n",
    "main_dataset.loc[main_dataset['n'] == main_dataset['m'] , 'theta'] = 30\n",
    "main_dataset.loc[main_dataset['m'] ==0  , 'theta'] = 0\n",
    "\n",
    "# main_dataset"
   ]
  },
  {
   "attachments": {},
   "cell_type": "markdown",
   "id": "3da735ed",
   "metadata": {},
   "source": [
    "### Insert identifier for Pristine model"
   ]
  },
  {
   "cell_type": "code",
   "execution_count": 3,
   "id": "591224bc",
   "metadata": {},
   "outputs": [
    {
     "name": "stderr",
     "output_type": "stream",
     "text": [
      "C:\\Users\\shubh\\AppData\\Local\\Temp\\ipykernel_8080\\3067301796.py:2: SettingWithCopyWarning: \n",
      "A value is trying to be set on a copy of a slice from a DataFrame.\n",
      "Try using .loc[row_indexer,col_indexer] = value instead\n",
      "\n",
      "See the caveats in the documentation: https://pandas.pydata.org/pandas-docs/stable/user_guide/indexing.html#returning-a-view-versus-a-copy\n",
      "  df_0['pristine'] = 1\n",
      "C:\\Users\\shubh\\AppData\\Local\\Temp\\ipykernel_8080\\3067301796.py:6: SettingWithCopyWarning: \n",
      "A value is trying to be set on a copy of a slice from a DataFrame.\n",
      "Try using .loc[row_indexer,col_indexer] = value instead\n",
      "\n",
      "See the caveats in the documentation: https://pandas.pydata.org/pandas-docs/stable/user_guide/indexing.html#returning-a-view-versus-a-copy\n",
      "  df_1['pristine'] = 0\n",
      "C:\\Users\\shubh\\AppData\\Local\\Temp\\ipykernel_8080\\3067301796.py:10: SettingWithCopyWarning: \n",
      "A value is trying to be set on a copy of a slice from a DataFrame.\n",
      "Try using .loc[row_indexer,col_indexer] = value instead\n",
      "\n",
      "See the caveats in the documentation: https://pandas.pydata.org/pandas-docs/stable/user_guide/indexing.html#returning-a-view-versus-a-copy\n",
      "  df_2['pristine'] = 0\n",
      "C:\\Users\\shubh\\AppData\\Local\\Temp\\ipykernel_8080\\3067301796.py:14: SettingWithCopyWarning: \n",
      "A value is trying to be set on a copy of a slice from a DataFrame.\n",
      "Try using .loc[row_indexer,col_indexer] = value instead\n",
      "\n",
      "See the caveats in the documentation: https://pandas.pydata.org/pandas-docs/stable/user_guide/indexing.html#returning-a-view-versus-a-copy\n",
      "  df_3['pristine'] = 0\n"
     ]
    }
   ],
   "source": [
    "df_0 = main_dataset[['Model ID', 'width', 'Length (A)', '1st Natural Freq (GHz)' ,'theta']]\n",
    "df_0['pristine'] = 1\n",
    "# df_0\n",
    "\n",
    "df_1 = main_dataset[['Model ID', 'width', 'Length (A)', 'Defect 1 %' , 'theta']]\n",
    "df_1['pristine'] = 0\n",
    "# df_1\n",
    "\n",
    "df_2 = main_dataset[['Model ID', 'width', 'Length (A)', 'Defect 2 %' , 'theta']]\n",
    "df_2['pristine'] = 0\n",
    "# df_2\n",
    "\n",
    "df_3 = main_dataset[['Model ID', 'width', 'Length (A)', 'Defect 3 %' , 'theta']]\n",
    "df_3['pristine'] = 0\n",
    "# df_3"
   ]
  },
  {
   "attachments": {},
   "cell_type": "markdown",
   "id": "87e771bb",
   "metadata": {},
   "source": [
    "#### Renaming Frequency Columns Header"
   ]
  },
  {
   "cell_type": "code",
   "execution_count": 4,
   "id": "9d7d50b1",
   "metadata": {},
   "outputs": [],
   "source": [
    "df_0 = df_0.rename(columns={'1st Natural Freq (GHz)' : 'freq'})\n",
    "df_1 = df_1.rename(columns={'Defect 1 %': 'freq'})\n",
    "df_2 = df_2.rename(columns={'Defect 2 %': 'freq'})\n",
    "df_3 = df_3.rename(columns={'Defect 3 %': 'freq'})"
   ]
  },
  {
   "attachments": {},
   "cell_type": "markdown",
   "id": "9f026460",
   "metadata": {},
   "source": [
    "#### Merge dataframes of dataset"
   ]
  },
  {
   "cell_type": "code",
   "execution_count": 5,
   "id": "540eab45",
   "metadata": {},
   "outputs": [],
   "source": [
    "df_merged = pd.concat([df_0,df_1,df_2,df_3])\n",
    "df_merged = df_merged.rename(columns = {'Length (A)' : 'length'})\n",
    "# df_merged.shape\n",
    "# df_merged\n",
    "# df_merged.columns\n",
    "\n",
    "df_merged.to_csv('./MasterDataset_Mod.csv')"
   ]
  },
  {
   "attachments": {},
   "cell_type": "markdown",
   "id": "1c2a4cf4",
   "metadata": {},
   "source": [
    "#### Train Test Split"
   ]
  },
  {
   "cell_type": "code",
   "execution_count": 6,
   "id": "5fbb43ec",
   "metadata": {},
   "outputs": [],
   "source": [
    "from sklearn.model_selection import train_test_split\n",
    "x=df_merged[['width','theta','freq','length']]\n",
    "y=df_merged['pristine']\n",
    "x_train, x_test, y_train, y_test = train_test_split(x, y, test_size=0.2, random_state=42)"
   ]
  },
  {
   "attachments": {},
   "cell_type": "markdown",
   "id": "5e2529a3",
   "metadata": {},
   "source": [
    "#### SMOTE"
   ]
  },
  {
   "cell_type": "code",
   "execution_count": 7,
   "id": "506aa75e",
   "metadata": {},
   "outputs": [],
   "source": [
    "# from collections import Counter\n",
    "from sklearn.metrics import classification_report, accuracy_score, confusion_matrix\n",
    "from imblearn.over_sampling import SMOTE\n",
    "smt=SMOTE()\n",
    "x_train_smote,y_train_smote=smt.fit_resample(x_train,y_train)\n",
    "\n",
    "# counter=Counter(y_train)\n",
    "# print('Before',counter)\n",
    "# counter=Counter(y_train_smote)\n",
    "# print('After',counter)"
   ]
  },
  {
   "attachments": {},
   "cell_type": "markdown",
   "id": "a3b96529",
   "metadata": {},
   "source": [
    "#### Naive Bayes Classifier"
   ]
  },
  {
   "cell_type": "code",
   "execution_count": 9,
   "id": "6f33a7ba",
   "metadata": {},
   "outputs": [
    {
     "name": "stdout",
     "output_type": "stream",
     "text": [
      "              precision    recall  f1-score   support\n",
      "\n",
      "           0       0.63      0.76      0.69        25\n",
      "           1       0.33      0.21      0.26        14\n",
      "\n",
      "    accuracy                           0.56        39\n",
      "   macro avg       0.48      0.49      0.48        39\n",
      "weighted avg       0.53      0.56      0.54        39\n",
      "\n",
      "Accuracy:  56.41 %\n"
     ]
    },
    {
     "data": {
      "text/plain": [
       "<AxesSubplot:>"
      ]
     },
     "execution_count": 9,
     "metadata": {},
     "output_type": "execute_result"
    },
    {
     "data": {
      "image/png": "[encoded data removed]",
      "text/plain": [
       "<Figure size 432x288 with 2 Axes>"
      ]
     },
     "metadata": {
      "needs_background": "light"
     },
     "output_type": "display_data"
    }
   ],
   "source": [
    "from sklearn.naive_bayes import MultinomialNB\n",
    "\n",
    "mnb = MultinomialNB()\n",
    "mnb.fit(x_train_smote, y_train_smote)\n",
    "y_pred_mnb = mnb.predict(x_test)\n",
    "print(classification_report(y_pred_mnb, y_test))\n",
    "\n",
    "print(\"Accuracy: \", round((100*(accuracy_score(y_test, y_pred_mnb))), 2), \"%\")\n",
    "\n",
    "import seaborn as sns\n",
    "sns.heatmap(confusion_matrix(y_test, y_pred_mnb), annot=True, fmt='d', cmap='Blues')"
   ]
  },
  {
   "attachments": {},
   "cell_type": "markdown",
   "id": "4dd2b8e5",
   "metadata": {},
   "source": [
    "#### Logistic Regression Classifier"
   ]
  },
  {
   "cell_type": "code",
   "execution_count": 10,
   "id": "ddf3e181",
   "metadata": {},
   "outputs": [
    {
     "name": "stdout",
     "output_type": "stream",
     "text": [
      "              precision    recall  f1-score   support\n",
      "\n",
      "           0       0.43      0.81      0.57        16\n",
      "           1       0.67      0.26      0.38        23\n",
      "\n",
      "    accuracy                           0.49        39\n",
      "   macro avg       0.55      0.54      0.47        39\n",
      "weighted avg       0.57      0.49      0.45        39\n",
      "\n",
      "Accuracy:  48.72 %\n"
     ]
    },
    {
     "data": {
      "text/plain": [
       "<AxesSubplot:>"
      ]
     },
     "execution_count": 10,
     "metadata": {},
     "output_type": "execute_result"
    },
    {
     "data": {
      "image/png": "[encoded data removed]",
      "text/plain": [
       "<Figure size 432x288 with 2 Axes>"
      ]
     },
     "metadata": {
      "needs_background": "light"
     },
     "output_type": "display_data"
    }
   ],
   "source": [
    "from sklearn.linear_model import LogisticRegression\n",
    "\n",
    "logreg = LogisticRegression()\n",
    "logreg.fit(x_train_smote, y_train_smote)\n",
    "y_pred_logreg = logreg.predict(x_test)\n",
    "print(classification_report(y_pred_logreg, y_test))\n",
    "\n",
    "print(\"Accuracy: \", round((100*(accuracy_score(y_test, y_pred_logreg))), 2), \"%\")\n",
    "\n",
    "import seaborn as sns\n",
    "sns.heatmap(confusion_matrix(y_test, y_pred_logreg), annot=True, fmt='d', cmap='Blues')"
   ]
  },
  {
   "attachments": {},
   "cell_type": "markdown",
   "id": "70d381f9",
   "metadata": {},
   "source": [
    "#### K-Nearest Neighbors Classifier"
   ]
  },
  {
   "cell_type": "code",
   "execution_count": 11,
   "id": "21c8469d",
   "metadata": {},
   "outputs": [
    {
     "name": "stdout",
     "output_type": "stream",
     "text": [
      "              precision    recall  f1-score   support\n",
      "\n",
      "           0       0.37      0.65      0.47        17\n",
      "           1       0.33      0.14      0.19        22\n",
      "\n",
      "    accuracy                           0.36        39\n",
      "   macro avg       0.35      0.39      0.33        39\n",
      "weighted avg       0.35      0.36      0.31        39\n",
      "\n",
      "Accuracy:  35.9 %\n"
     ]
    },
    {
     "data": {
      "text/plain": [
       "<AxesSubplot:>"
      ]
     },
     "execution_count": 11,
     "metadata": {},
     "output_type": "execute_result"
    },
    {
     "data": {
      "image/png": "[encoded data removed]",
      "text/plain": [
       "<Figure size 432x288 with 2 Axes>"
      ]
     },
     "metadata": {
      "needs_background": "light"
     },
     "output_type": "display_data"
    }
   ],
   "source": [
    "from sklearn.neighbors import KNeighborsClassifier\n",
    "\n",
    "knn = KNeighborsClassifier()\n",
    "knn.fit(x_train_smote, y_train_smote)\n",
    "y_pred_knn = knn.predict(x_test)\n",
    "print(classification_report(y_pred_knn, y_test))\n",
    "\n",
    "print(\"Accuracy: \", round((100*(accuracy_score(y_test, y_pred_knn))), 2), \"%\")\n",
    "\n",
    "import seaborn as sns\n",
    "sns.heatmap(confusion_matrix(y_test, y_pred_knn), annot=True, fmt='d', cmap='Blues')"
   ]
  },
  {
   "attachments": {},
   "cell_type": "markdown",
   "id": "ae9b5bf0",
   "metadata": {},
   "source": [
    "#### Linear Support Vector Machine Classifier"
   ]
  },
  {
   "cell_type": "code",
   "execution_count": 12,
   "id": "4416d3dd",
   "metadata": {},
   "outputs": [
    {
     "name": "stdout",
     "output_type": "stream",
     "text": [
      "              precision    recall  f1-score   support\n",
      "\n",
      "           0       1.00      0.77      0.87        39\n",
      "           1       0.00      0.00      0.00         0\n",
      "\n",
      "    accuracy                           0.77        39\n",
      "   macro avg       0.50      0.38      0.43        39\n",
      "weighted avg       1.00      0.77      0.87        39\n",
      "\n",
      "Accuracy:  76.92 %\n"
     ]
    },
    {
     "name": "stderr",
     "output_type": "stream",
     "text": [
      "d:\\Softwares\\Python\\lib\\site-packages\\sklearn\\svm\\_base.py:1225: ConvergenceWarning: Liblinear failed to converge, increase the number of iterations.\n",
      "  warnings.warn(\n",
      "d:\\Softwares\\Python\\lib\\site-packages\\sklearn\\metrics\\_classification.py:1327: UndefinedMetricWarning: Recall and F-score are ill-defined and being set to 0.0 in labels with no true samples. Use `zero_division` parameter to control this behavior.\n",
      "  _warn_prf(average, modifier, msg_start, len(result))\n",
      "d:\\Softwares\\Python\\lib\\site-packages\\sklearn\\metrics\\_classification.py:1327: UndefinedMetricWarning: Recall and F-score are ill-defined and being set to 0.0 in labels with no true samples. Use `zero_division` parameter to control this behavior.\n",
      "  _warn_prf(average, modifier, msg_start, len(result))\n",
      "d:\\Softwares\\Python\\lib\\site-packages\\sklearn\\metrics\\_classification.py:1327: UndefinedMetricWarning: Recall and F-score are ill-defined and being set to 0.0 in labels with no true samples. Use `zero_division` parameter to control this behavior.\n",
      "  _warn_prf(average, modifier, msg_start, len(result))\n"
     ]
    },
    {
     "data": {
      "text/plain": [
       "<AxesSubplot:>"
      ]
     },
     "execution_count": 12,
     "metadata": {},
     "output_type": "execute_result"
    },
    {
     "data": {
      "image/png": "[encoded data removed]",
      "text/plain": [
       "<Figure size 432x288 with 2 Axes>"
      ]
     },
     "metadata": {
      "needs_background": "light"
     },
     "output_type": "display_data"
    }
   ],
   "source": [
    "from sklearn.svm import LinearSVC\n",
    "\n",
    "lsvc = LinearSVC()\n",
    "lsvc.fit(x_train_smote, y_train_smote)\n",
    "y_pred_lsvc = lsvc.predict(x_test)\n",
    "print(classification_report(y_pred_lsvc, y_test))\n",
    "\n",
    "print(\"Accuracy: \", round((100*(accuracy_score(y_test, y_pred_lsvc))), 2), \"%\")\n",
    "\n",
    "import seaborn as sns\n",
    "sns.heatmap(confusion_matrix(y_test, y_pred_lsvc), annot=True, fmt='d', cmap='Blues')"
   ]
  },
  {
   "attachments": {},
   "cell_type": "markdown",
   "id": "3b45ef4e",
   "metadata": {},
   "source": [
    "#### Support Vector Machine Classifier"
   ]
  },
  {
   "cell_type": "code",
   "execution_count": 13,
   "id": "70f93441",
   "metadata": {},
   "outputs": [
    {
     "name": "stdout",
     "output_type": "stream",
     "text": [
      "              precision    recall  f1-score   support\n",
      "\n",
      "           0       0.17      0.71      0.27         7\n",
      "           1       0.78      0.22      0.34        32\n",
      "\n",
      "    accuracy                           0.31        39\n",
      "   macro avg       0.47      0.47      0.31        39\n",
      "weighted avg       0.67      0.31      0.33        39\n",
      "\n",
      "Accuracy:  30.77 %\n"
     ]
    },
    {
     "data": {
      "text/plain": [
       "<AxesSubplot:>"
      ]
     },
     "execution_count": 13,
     "metadata": {},
     "output_type": "execute_result"
    },
    {
     "data": {
      "image/png": "[encoded data removed]",
      "text/plain": [
       "<Figure size 432x288 with 2 Axes>"
      ]
     },
     "metadata": {
      "needs_background": "light"
     },
     "output_type": "display_data"
    }
   ],
   "source": [
    "from sklearn.svm import SVC\n",
    "\n",
    "svc = SVC()\n",
    "svc.fit(x_train_smote, y_train_smote)\n",
    "y_pred_svc = svc.predict(x_test)\n",
    "print(classification_report(y_pred_svc, y_test))\n",
    "\n",
    "print(\"Accuracy: \", round((100*(accuracy_score(y_test, y_pred_svc))), 2), \"%\")\n",
    "\n",
    "import seaborn as sns\n",
    "sns.heatmap(confusion_matrix(y_test, y_pred_svc), annot=True, fmt='d', cmap='Blues')"
   ]
  },
  {
   "attachments": {},
   "cell_type": "markdown",
   "id": "000de609",
   "metadata": {},
   "source": [
    "#### Decision Tree Classifier"
   ]
  },
  {
   "cell_type": "code",
   "execution_count": 14,
   "id": "1c8bd25b",
   "metadata": {},
   "outputs": [
    {
     "name": "stdout",
     "output_type": "stream",
     "text": [
      "              precision    recall  f1-score   support\n",
      "\n",
      "           0       0.90      0.84      0.87        32\n",
      "           1       0.44      0.57      0.50         7\n",
      "\n",
      "    accuracy                           0.79        39\n",
      "   macro avg       0.67      0.71      0.69        39\n",
      "weighted avg       0.82      0.79      0.80        39\n",
      "\n",
      "Accuracy:  79.49 %\n"
     ]
    },
    {
     "data": {
      "text/plain": [
       "<AxesSubplot:>"
      ]
     },
     "execution_count": 14,
     "metadata": {},
     "output_type": "execute_result"
    },
    {
     "data": {
      "image/png": "[encoded data removed]",
      "text/plain": [
       "<Figure size 432x288 with 2 Axes>"
      ]
     },
     "metadata": {
      "needs_background": "light"
     },
     "output_type": "display_data"
    }
   ],
   "source": [
    "from sklearn.tree import DecisionTreeClassifier\n",
    "clf = DecisionTreeClassifier()\n",
    "clf.fit(x_train_smote, y_train_smote)\n",
    "y_pred_clf = clf.predict(x_test)\n",
    "print(classification_report(y_pred_clf, y_test))\n",
    "\n",
    "print(\"Accuracy: \", round((100*(accuracy_score(y_test, y_pred_clf))), 2), \"%\")\n",
    "\n",
    "import seaborn as sns\n",
    "sns.heatmap(confusion_matrix(y_test, y_pred_clf), annot=True, fmt='d', cmap='Blues')"
   ]
  },
  {
   "attachments": {},
   "cell_type": "markdown",
   "id": "81ca16ab",
   "metadata": {},
   "source": [
    "#### Bagging Decision Tree Classifier"
   ]
  },
  {
   "cell_type": "code",
   "execution_count": 15,
   "id": "3d7819cb",
   "metadata": {},
   "outputs": [
    {
     "name": "stdout",
     "output_type": "stream",
     "text": [
      "              precision    recall  f1-score   support\n",
      "\n",
      "           0       0.90      0.87      0.89        31\n",
      "           1       0.56      0.62      0.59         8\n",
      "\n",
      "    accuracy                           0.82        39\n",
      "   macro avg       0.73      0.75      0.74        39\n",
      "weighted avg       0.83      0.82      0.82        39\n",
      "\n",
      "Accuracy:  82.05 %\n"
     ]
    },
    {
     "data": {
      "text/plain": [
       "<AxesSubplot:>"
      ]
     },
     "execution_count": 15,
     "metadata": {},
     "output_type": "execute_result"
    },
    {
     "data": {
      "image/png": "[encoded data removed]",
      "text/plain": [
       "<Figure size 432x288 with 2 Axes>"
      ]
     },
     "metadata": {
      "needs_background": "light"
     },
     "output_type": "display_data"
    }
   ],
   "source": [
    "from sklearn.ensemble import BaggingClassifier\n",
    "from sklearn.tree import DecisionTreeClassifier\n",
    "# max_samples: maximum size 0.5=50% of each sample taken from the full dataset\n",
    "# max_features: maximum of features 1=100% taken here all 10K \n",
    "# n_estimators: number of decision trees \n",
    "\n",
    "bg=BaggingClassifier(DecisionTreeClassifier(),max_samples=0.5,max_features=1.0,n_estimators=100)\n",
    "bg.fit(x_train_smote, y_train_smote)\n",
    "y_pred_bg = bg.predict(x_test)\n",
    "print(classification_report(y_pred_bg, y_test))\n",
    "\n",
    "print(\"Accuracy: \", round((100*(accuracy_score(y_test, y_pred_bg))), 2), \"%\")\n",
    "\n",
    "import seaborn as sns\n",
    "sns.heatmap(confusion_matrix(y_test, y_pred_bg), annot=True, fmt='d', cmap='Blues')\n"
   ]
  },
  {
   "attachments": {},
   "cell_type": "markdown",
   "id": "d57eefba",
   "metadata": {},
   "source": [
    "#### Bosoting Decision Tree Classifier"
   ]
  },
  {
   "cell_type": "code",
   "execution_count": 16,
   "id": "37b54df8",
   "metadata": {},
   "outputs": [
    {
     "name": "stdout",
     "output_type": "stream",
     "text": [
      "              precision    recall  f1-score   support\n",
      "\n",
      "           0       0.90      0.87      0.89        31\n",
      "           1       0.56      0.62      0.59         8\n",
      "\n",
      "    accuracy                           0.82        39\n",
      "   macro avg       0.73      0.75      0.74        39\n",
      "weighted avg       0.83      0.82      0.82        39\n",
      "\n",
      "Accuracy:  82.05 %\n"
     ]
    },
    {
     "data": {
      "text/plain": [
       "<AxesSubplot:>"
      ]
     },
     "execution_count": 16,
     "metadata": {},
     "output_type": "execute_result"
    },
    {
     "data": {
      "image/png": "[encoded data removed]",
      "text/plain": [
       "<Figure size 432x288 with 2 Axes>"
      ]
     },
     "metadata": {
      "needs_background": "light"
     },
     "output_type": "display_data"
    }
   ],
   "source": [
    "from sklearn.ensemble import AdaBoostClassifier\n",
    "from sklearn.tree import DecisionTreeClassifier\n",
    "adb = AdaBoostClassifier(DecisionTreeClassifier(min_samples_split=10,max_depth=4),n_estimators=10,learning_rate=0.6)\n",
    "adb.fit(x_train_smote, y_train_smote)\n",
    "\n",
    "y_pred_adb = adb.predict(x_test)\n",
    "print(classification_report(y_pred_adb, y_test))\n",
    "\n",
    "print(\"Accuracy: \", round((100*(accuracy_score(y_test, y_pred_adb))), 2), \"%\")\n",
    "\n",
    "import seaborn as sns\n",
    "sns.heatmap(confusion_matrix(y_test, y_pred_adb), annot=True, fmt='d', cmap='Blues')\n"
   ]
  },
  {
   "attachments": {},
   "cell_type": "markdown",
   "id": "e6b69852",
   "metadata": {},
   "source": [
    "#### Random Forest Classifier"
   ]
  },
  {
   "cell_type": "code",
   "execution_count": 17,
   "id": "daadf45c",
   "metadata": {},
   "outputs": [
    {
     "name": "stdout",
     "output_type": "stream",
     "text": [
      "              precision    recall  f1-score   support\n",
      "\n",
      "           0       0.90      0.87      0.89        31\n",
      "           1       0.56      0.62      0.59         8\n",
      "\n",
      "    accuracy                           0.82        39\n",
      "   macro avg       0.73      0.75      0.74        39\n",
      "weighted avg       0.83      0.82      0.82        39\n",
      "\n",
      "Accuracy:  82.05 %\n"
     ]
    },
    {
     "data": {
      "text/plain": [
       "<AxesSubplot:>"
      ]
     },
     "execution_count": 17,
     "metadata": {},
     "output_type": "execute_result"
    },
    {
     "data": {
      "image/png": "[encoded data removed]",
      "text/plain": [
       "<Figure size 432x288 with 2 Axes>"
      ]
     },
     "metadata": {
      "needs_background": "light"
     },
     "output_type": "display_data"
    }
   ],
   "source": [
    "from sklearn.ensemble import RandomForestClassifier\n",
    "rf = RandomForestClassifier(n_estimators=100, max_depth=9)\n",
    "rf.fit(x_train_smote, y_train_smote)\n",
    "y_pred_rf = rf.predict(x_test)\n",
    "print(classification_report(y_pred_rf, y_test))\n",
    "\n",
    "print(\"Accuracy: \", round((100*(accuracy_score(y_test, y_pred_rf))), 2), \"%\")\n",
    "\n",
    "import seaborn as sns\n",
    "sns.heatmap(confusion_matrix(y_test, y_pred_rf), annot=True, fmt='d', cmap='Blues')\n"
   ]
  }
 ],
 "metadata": {
  "kernelspec": {
   "display_name": "Python 3 (ipykernel)",
   "language": "python",
   "name": "python3"
  },
  "language_info": {
   "codemirror_mode": {
    "name": "ipython",
    "version": 3
   },
   "file_extension": ".py",
   "mimetype": "text/x-python",
   "name": "python",
   "nbconvert_exporter": "python",
   "pygments_lexer": "ipython3",
   "version": "3.10.5"
  }
 },
 "nbformat": 4,
 "nbformat_minor": 5
}
